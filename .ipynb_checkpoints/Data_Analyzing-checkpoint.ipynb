{
 "cells": [
  {
   "cell_type": "code",
   "execution_count": 1,
   "metadata": {
    "ExecuteTime": {
     "end_time": "2020-03-05T15:19:23.948105Z",
     "start_time": "2020-03-05T15:19:22.147429Z"
    }
   },
   "outputs": [],
   "source": [
    "import numpy as np\n",
    "import scipy as sp\n",
    "import matplotlib as np\n",
    "import pandas as pd"
   ]
  },
  {
   "cell_type": "code",
   "execution_count": null,
   "metadata": {},
   "outputs": [],
   "source": [
    "Data = np.read_csv('Data.xls')\n",
    "Data_raw = Data.copy()\n",
    "\n",
    "Data."
   ]
  },
  {
   "cell_type": "code",
   "execution_count": null,
   "metadata": {},
   "outputs": [],
   "source": [
    "# examine\n",
    "print(Data['Region'].value_counts())\n",
    "print(Data['Region'].unique().size)"
   ]
  },
  {
   "cell_type": "code",
   "execution_count": null,
   "metadata": {},
   "outputs": [],
   "source": [
    "# time serie\n",
    "\n",
    "Data.concat([Data, Data.shift(0), Data.shift(1)], axis=1).dropna()\n",
    "\n",
    "# # versao fresca com nomes\n",
    "\n",
    "# def buildLaggedFeatures(s,lag=2,dropna=True):\n",
    "# '''\n",
    "# Builds a new DataFrame to facilitate regressing over all possible lagged features\n",
    "# '''\n",
    "# if type(s) is pd.DataFrame:\n",
    "#     new_dict={}\n",
    "#     for col_name in s:\n",
    "#         new_dict[col_name]=s[col_name]\n",
    "#         # create lagged Series\n",
    "#         for l in range(1,lag+1):\n",
    "#             new_dict['%s_lag%d' %(col_name,l)]=s[col_name].shift(l)\n",
    "#     res=pd.DataFrame(new_dict,index=s.index)\n",
    "\n",
    "# elif type(s) is pd.Series:\n",
    "#     the_range=range(lag+1)\n",
    "#     res=pd.concat([s.shift(i) for i in the_range],axis=1)\n",
    "#     res.columns=['lag_%d' %i for i in the_range]\n",
    "# else:\n",
    "#     print 'Only works for DataFrame or Series'\n",
    "#     return None\n",
    "# if dropna:\n",
    "#     return res.dropna()\n",
    "# else:\n",
    "#     return res \n"
   ]
  },
  {
   "cell_type": "code",
   "execution_count": null,
   "metadata": {},
   "outputs": [],
   "source": [
    "Data_c = Data.copy()\n",
    "cut_levels(Data_c['hm'], 80, 'others')\n",
    "\n",
    "Data_c['jmCutted'], Cutteds = cut_levels_new(Data_c['hm'], 80, 'others')\n"
   ]
  },
  {
   "cell_type": "code",
   "execution_count": null,
   "metadata": {},
   "outputs": [],
   "source": [
    "# IMPUTING\n",
    "\n",
    "# Impute ages based on titles\n",
    "# idx_nan_age = Data.loc[Data.isnan(df['Age'])].index\n",
    "# Data['AgeTitles'] = Data['Age']\n",
    "# Data.loc[idx_nan_age,'AgeTitles'] = Data['Title'].loc[idx_nan_age].map(map_means)\n",
    "\n",
    "# from sklearn.impute import KNNImputer\n",
    "# imputer = KNNImputer(n_neighbors=2, weights=\"uniform\")\n",
    "# imputer.fit_transform(Data)\n",
    "\n",
    "# Data.fillna(0, inplace = True)\n",
    "# Data['Age_Inputed'] = Data.fillna(Data['Age'].mean())\n",
    "# Scipy\n",
    "# Data.interpolate(method='polynomial', order=2)\n",
    "\n",
    "# Time\n",
    "# Data.fillna(method='pad', limit=1) # front , 'bfill' back"
   ]
  },
  {
   "cell_type": "code",
   "execution_count": null,
   "metadata": {},
   "outputs": [],
   "source": [
    "# Not frequent values\n",
    "\n",
    "# Data_c = Data.copy()\n",
    "# Labels_Off = cut_levels(Data_c['Region'], 100, 'others');\n",
    "# Data[Data['Region'].isin([Labels_Off])]"
   ]
  },
  {
   "cell_type": "code",
   "execution_count": null,
   "metadata": {},
   "outputs": [],
   "source": [
    "# Outliers\n",
    "\n",
    "print(find_outliers(Data,'Total52') )"
   ]
  },
  {
   "cell_type": "code",
   "execution_count": null,
   "metadata": {},
   "outputs": [],
   "source": [
    "# PLOT\n",
    "\n",
    "#Data.iloc[5].plot(kind='bar');\n",
    "# .hist(color='k', alpha=0.5, bins=50, figsize=(6, 4)) # multiple plots\n",
    "#Data.boxplot(column=['Col1', 'Col2'], by=['X', 'Y'])\n",
    "\n",
    "\n",
    "# kind : str\n",
    "\n",
    "# ‘line’ : line plot (default)\n",
    "# ‘bar’ : vertical bar plot\n",
    "# ‘barh’ : horizontal bar plot\n",
    "# ‘hist’ : histogram\n",
    "# ‘box’ : boxplot\n",
    "# ‘kde’ : Kernel Density Estimation plot\n",
    "# ‘density’ : same as ‘kde’\n",
    "# ‘area’ : area plot\n",
    "# ‘pie’ : pie plot\n",
    "# ‘scatter’ : scatter plot\n",
    "# ‘hexbin’ : hexbin plot\n",
    "\n",
    "\n",
    "# grr = pd.plotting.scatter_matrix(Data, c=Data['Total52'], figsize=(15, 15), marker='o',\n",
    "#                                  hist_kwds={'bins': 20}, s=60, alpha=.8)\n",
    "\n",
    "\n",
    "# import seaborn as sns\n",
    "# g = sns.pairplot(Data, hue='Total52', palette=\"husl\")"
   ]
  },
  {
   "cell_type": "code",
   "execution_count": null,
   "metadata": {},
   "outputs": [],
   "source": []
  },
  {
   "cell_type": "code",
   "execution_count": null,
   "metadata": {},
   "outputs": [],
   "source": [
    "# prepare target\n",
    "SEED = 7\n",
    "\n",
    "def Dummies_Corrected(Data,Test):\n",
    "    train_objs_num = len(Data)\n",
    "    combined = pd.concat([Data, Test], axis=0)\n",
    "    df = pd.get_dummies(combined)\n",
    "    Data[:] = df[:train_objs_num]\n",
    "    Test[:] = df[train_objs_num:]\n",
    "    print(Data)\n",
    "\n",
    "def Categorize(Data):\n",
    "    for x in Data.columns:\n",
    "        if(Data[x].dtype == object):\n",
    "            Data[x] = pd.Categorical(\n",
    "        Data[x])\n"
   ]
  },
  {
   "cell_type": "code",
   "execution_count": null,
   "metadata": {},
   "outputs": [],
   "source": [
    "#from sklearn.model_selection import train_test_split\n",
    "\n",
    "Y_train = Data['Total52'].copy()\n",
    "Data.drop('Total52', axis = 1 ,inplace = True)\n",
    "Categorize(Data)\n",
    "Data = pd.get_dummies(Data, drop_first = False)\n",
    "\n",
    "X_train, X_test, y_train, y_test =train_test_split(Data,Y_train,\n",
    "                                                   test_size=0.33,\n",
    "                                                   random_state = SEED,\n",
    "                                                   stratify=Y_train)"
   ]
  },
  {
   "cell_type": "code",
   "execution_count": null,
   "metadata": {},
   "outputs": [],
   "source": [
    "from sklearn.ensemble import RandomForestClassifier\n",
    "\n",
    "\n",
    "forest = RandomForestClassifier(n_estimators=150)\n",
    "forest.fit(X_train,Y_train)\n",
    "importances_dummy = forest.feature_importances_\n",
    "importances_categorical = importances_dummy\n",
    "labels = X_train.columns\n",
    "\n",
    "for feat in dummy_prefixes:\n",
    "    feat_idx = np.array([re.match(f'^{feat}_', col) is not None for col in X.columns])\n",
    "    importances_categorical = np.append(importances_categorical,\n",
    "                                                sum(importances_dummy[feat_idx]))\n",
    "    labels = np.append(labels,feat)\n",
    "    dummy_idx = dummy_idx | feat_idx\n",
    "    \n",
    "    \n",
    "importances_categorical = np.concatenate((importances_dummy[~dummy_idx],\n",
    "                                                  importances_categorical))\n",
    "labels = np.concatenate((X.columns[~dummy_idx], labels))\n",
    "importances_categorical /= max(importances_categorical)\n",
    "\n",
    "bar = pd.DataFrame([importances_categorical], columns=labels).T\n",
    "print(bars[0].sort_values(ascending = False))"
   ]
  },
  {
   "cell_type": "code",
   "execution_count": null,
   "metadata": {},
   "outputs": [],
   "source": []
  }
 ],
 "metadata": {
  "kernelspec": {
   "display_name": "Python 3",
   "language": "python",
   "name": "python3"
  },
  "language_info": {
   "codemirror_mode": {
    "name": "ipython",
    "version": 3
   },
   "file_extension": ".py",
   "mimetype": "text/x-python",
   "name": "python",
   "nbconvert_exporter": "python",
   "pygments_lexer": "ipython3",
   "version": "3.7.3"
  },
  "toc": {
   "base_numbering": 1,
   "nav_menu": {},
   "number_sections": true,
   "sideBar": true,
   "skip_h1_title": false,
   "title_cell": "Table of Contents",
   "title_sidebar": "Contents",
   "toc_cell": false,
   "toc_position": {},
   "toc_section_display": true,
   "toc_window_display": false
  },
  "varInspector": {
   "cols": {
    "lenName": "6",
    "lenType": "6",
    "lenVar": 40
   },
   "kernels_config": {
    "python": {
     "delete_cmd_postfix": "",
     "delete_cmd_prefix": "del ",
     "library": "var_list.py",
     "varRefreshCmd": "print(var_dic_list())"
    },
    "r": {
     "delete_cmd_postfix": ") ",
     "delete_cmd_prefix": "rm(",
     "library": "var_list.r",
     "varRefreshCmd": "cat(var_dic_list()) "
    }
   },
   "types_to_exclude": [
    "module",
    "function",
    "builtin_function_or_method",
    "instance",
    "_Feature"
   ],
   "window_display": false
  }
 },
 "nbformat": 4,
 "nbformat_minor": 2
}
