{
 "cells": [
  {
   "cell_type": "code",
   "execution_count": null,
   "metadata": {},
   "outputs": [],
   "source": [
    "import numpy as np\n",
    "import pandas as pd\n",
    "import datetime"
   ]
  },
  {
   "cell_type": "code",
   "execution_count": null,
   "metadata": {},
   "outputs": [],
   "source": [
    "def basic_eda(df):\n",
    "    print(\"----------HEAD--------\")\n",
    "    print(df.head(5))\n",
    "    print(\"----------INFO-----------------\")\n",
    "    print(df.info())\n",
    "    print(\"----------Describe-------------\")\n",
    "    print(df.describe())\n",
    "    print(\"----------Columns--------------\")\n",
    "    print(df.columns)\n",
    "    print(\"----------Data Types-----------\")\n",
    "    print(df.dtypes)\n",
    "    print(\"-------Missing Values----------\")\n",
    "    print(df.isnull().sum())\n",
    "    print(\"-------NULL values-------------\")\n",
    "    print(df.isna().sum())\n",
    "    print(\"-----Shape Of Data-------------\")\n",
    "    print(df.shape)\n",
    "    \n",
    "# Create table for missing data analysis\n",
    "def draw_missing_data_table(df):\n",
    "    total = df.isnull().sum().sort_values(ascending=False)\n",
    "    percent = (df.isnull().sum()/df.isnull().count()).sort_values(ascending=False)\n",
    "    missing_data = pd.concat([total, percent], axis=1, keys=['Total', 'Percent'])\n",
    "    return missing_data"
   ]
  },
  {
   "cell_type": "code",
   "execution_count": null,
   "metadata": {},
   "outputs": [],
   "source": [
    "Data = pd.read_excel('..\\DataScienceIntern-Task-24hr.xlsx', sheetname=2)\n",
    "Data = pd.read_csv('train.csv')\n",
    "Data_raw = Data.copy()"
   ]
  },
  {
   "cell_type": "code",
   "execution_count": null,
   "metadata": {},
   "outputs": [],
   "source": [
    "basic_eda(Data)"
   ]
  },
  {
   "cell_type": "code",
   "execution_count": null,
   "metadata": {},
   "outputs": [],
   "source": [
    "#Date\n",
    "\n",
    "#Data['First Delivery'] = Data['Delivery week'].apply(lambda x:datetime.datetime.strptime(x + '-1', \"%Y-W%W-%w\"))\n",
    "#Data['date'] = pd.to_datetime(Data['date'],format = '%d.%m.%Y')\n",
    "#Data = Data['First Delivery'].dt.year.min()"
   ]
  },
  {
   "cell_type": "code",
   "execution_count": null,
   "metadata": {},
   "outputs": [],
   "source": [
    "#String\n",
    "\n",
    "#Data['Title'] = Data['Name'].str.extract('([A-Za-z]+)\\.', expand=False)\n",
    "#Data['Product sku'] = Data['Product sku'].str.replace('T1', '')\n",
    "#MappingCustomerFirst = pd.DataFrame(Data['Product sku'].str.split(pat = '-', expand = True))\n",
    "\n",
    "Data[\"OHC_Code\"] = np.where(Data[\"engine_type\"].str.contains(\"ohc\"), 1, other=0) # if true 1 else 0\n",
    "\n"
   ]
  },
  {
   "cell_type": "code",
   "execution_count": null,
   "metadata": {},
   "outputs": [],
   "source": [
    "# Map\n",
    "\n",
    "# size_mapping = {\n",
    "#     'XL': 3,\n",
    "#     'L': 2,\n",
    "#     'M': 1}\n",
    "# Data['size'] = Data['size'].map(size_mapping)\n",
    "\n",
    "# MAP BETWEEN 2 VARIABLES VALUE/STRING\n",
    "# means = Data.groupby('Title')['Age'].mean()\n",
    "\n",
    "# # Transform means into a dictionary for future mapping\n",
    "# map_means = means.to_dict()"
   ]
  },
  {
   "cell_type": "code",
   "execution_count": null,
   "metadata": {},
   "outputs": [],
   "source": [
    "# Group\n",
    "\n",
    "#WeekOrganizer = Data.groupby(['WeekNumber','Channel'], as_index=True)['Customer id'].count()\n",
    "\n",
    "# grouped = Data.groupby('Team')\n",
    "# score = lambda x: (x - x.mean()) / x.std()*10\n",
    "# grouped.transform(score) # return in the original form!!!!!!! peux faire tous du agg\n",
    "\n",
    "# Data[Data['item'] == 'call'].groupby('month').agg(\n",
    "#     # Get max of the duration column for each group\n",
    "#     max_duration=('duration', max),\n",
    "#     # Get min of the duration column for each group\n",
    "#     min_duration=('duration', min),\n",
    "#     # Get sum of the duration column for each group\n",
    "#     total_duration=('duration', sum),\n",
    "#     # Apply a lambda to date column\n",
    "#     num_days=(\"date\", lambda x: (max(x) - min(x)).days)    \n"
   ]
  },
  {
   "cell_type": "code",
   "execution_count": null,
   "metadata": {},
   "outputs": [],
   "source": [
    "# BINNING\n",
    "\n",
    "#op_labels = ['shyttte', 'moderate', 'good']\n",
    "#category = [0.,4.,7.,10.]\n",
    "## puis, crée la nouvelle categorie.\n",
    "#Data['imdb_labels'] = pd.cut(Data['imdb_score'], labels=op_labels, bins=category, include_lowest=False)\n",
    "\n",
    "# from sklearn.preprocessing import KBinsDiscretizer\n",
    "\n",
    "# disc = KBinsDiscretizer(n_bins=6, encode='onehot-dense',  \n",
    "#                         strategy='kmeans') #quantile , kmeans\n",
    "\n",
    "# Data['imdb_labels_binned'] = disc.fit_transform(Data['imdb_labels'].values.reshape(-1, 1))\n",
    "# print(disc.bin_edges_)\n",
    "# print(y_training_bins.sum(0) )\n",
    "\n",
    "# au case ou.\n",
    "# y_test_bins = disc.transform(y_test.values.reshape(-1, 1))\n",
    "\n"
   ]
  },
  {
   "cell_type": "code",
   "execution_count": null,
   "metadata": {},
   "outputs": [],
   "source": [
    "# FINAL ORGANIZE\n",
    "\n",
    "Data.reset_index(inplace = True)\n",
    "Data.rename(columns = {'fk_customer':'Customer id'}, inplace = True)\n",
    "Data = Data.sort_values('Delivery week').set_index('Customer id')"
   ]
  },
  {
   "cell_type": "code",
   "execution_count": null,
   "metadata": {},
   "outputs": [],
   "source": [
    "# DUPLICATES, DROP\n",
    "pandas.options.mode.use_inf_as_na = True\n",
    "\n",
    "Aux =Data.drop_duplicates(subset='Customer id', keep='first').set_index('Customer id')\n",
    "# Data.dropna(axis=0, inplace = True) # tue les colums avec null values\n",
    "\n",
    "# Data.drop('WeekID', axis = 1, inplace = True)\n"
   ]
  },
  {
   "cell_type": "code",
   "execution_count": null,
   "metadata": {},
   "outputs": [],
   "source": [
    "Data.to_excel('ProductCorrected.xlsx')\n",
    "Data.to_csv('OrderData.csv')"
   ]
  }
 ],
 "metadata": {
  "kernelspec": {
   "display_name": "Python 3",
   "language": "python",
   "name": "python3"
  },
  "language_info": {
   "codemirror_mode": {
    "name": "ipython",
    "version": 3
   },
   "file_extension": ".py",
   "mimetype": "text/x-python",
   "name": "python",
   "nbconvert_exporter": "python",
   "pygments_lexer": "ipython3",
   "version": "3.7.3"
  },
  "toc": {
   "base_numbering": 1,
   "nav_menu": {},
   "number_sections": true,
   "sideBar": true,
   "skip_h1_title": false,
   "title_cell": "Table of Contents",
   "title_sidebar": "Contents",
   "toc_cell": false,
   "toc_position": {},
   "toc_section_display": true,
   "toc_window_display": false
  },
  "varInspector": {
   "cols": {
    "lenName": "6",
    "lenType": "6",
    "lenVar": 40
   },
   "kernels_config": {
    "python": {
     "delete_cmd_postfix": "",
     "delete_cmd_prefix": "del ",
     "library": "var_list.py",
     "varRefreshCmd": "print(var_dic_list())"
    },
    "r": {
     "delete_cmd_postfix": ") ",
     "delete_cmd_prefix": "rm(",
     "library": "var_list.r",
     "varRefreshCmd": "cat(var_dic_list()) "
    }
   },
   "types_to_exclude": [
    "module",
    "function",
    "builtin_function_or_method",
    "instance",
    "_Feature"
   ],
   "window_display": false
  }
 },
 "nbformat": 4,
 "nbformat_minor": 2
}
